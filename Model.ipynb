{
 "cells": [
  {
   "cell_type": "code",
   "execution_count": 27,
   "id": "477d95f6",
   "metadata": {},
   "outputs": [],
   "source": [
    "\n",
    "from sklearn.linear_model import Ridge, RidgeCV, ElasticNetCV, LassoCV, LassoLarsCV\n",
    "import pandas as pd\n",
    "import numpy as np"
   ]
  },
  {
   "cell_type": "code",
   "execution_count": 29,
   "id": "c68971b5",
   "metadata": {},
   "outputs": [],
   "source": [
    "'''\n",
    "#x_train1,x_test1,y_train1,y_test1 = train_test_split(X_train,y_train,test_size=0.25)\n",
    "train = pd.read_csv(\"./newtraindata.csv\")\n",
    "test = pd.read_csv(\"./newtestdata.csv\")\n",
    "#alldata = pd.concat(train.iloc[:,1:-1],)#another\n",
    "#alldata.shape\n",
    "'''"
   ]
  },
  {
   "cell_type": "code",
   "execution_count": 30,
   "id": "428c7892",
   "metadata": {},
   "outputs": [],
   "source": [
    "'''\n",
    "X_train = train.iloc[:,1:-1]\n",
    "y = train.iloc[:,-1]\n",
    "X_test = test.iloc[:,1:]\n",
    "'''"
   ]
  },
  {
   "cell_type": "code",
   "execution_count": 31,
   "id": "cf554cca",
   "metadata": {},
   "outputs": [],
   "source": [
    "def rmse_cv(model):\n",
    "    rmse = np.sqrt(-cross_val_score(model, X_train, y, scoring=\"neg_mean_squared_error\", cv = 5))\n",
    "    return (rmse)"
   ]
  },
  {
   "cell_type": "code",
   "execution_count": 32,
   "id": "0d263fe5",
   "metadata": {},
   "outputs": [
    {
     "name": "stderr",
     "output_type": "stream",
     "text": [
      "c:\\users\\19132\\appdata\\local\\programs\\python\\python37\\lib\\site-packages\\sklearn\\linear_model\\_coordinate_descent.py:527: ConvergenceWarning: Objective did not converge. You might want to increase the number of iterations. Duality gap: 0.013060275161107082, tolerance: 0.008977739726027407\n",
      "  tol, rng, random, positive)\n",
      "c:\\users\\19132\\appdata\\local\\programs\\python\\python37\\lib\\site-packages\\sklearn\\linear_model\\_coordinate_descent.py:527: ConvergenceWarning: Objective did not converge. You might want to increase the number of iterations. Duality gap: 0.010043394150708082, tolerance: 0.008977739726027407\n",
      "  tol, rng, random, positive)\n"
     ]
    },
    {
     "ename": "ValueError",
     "evalue": "matmul: Input operand 1 has a mismatch in its core dimension 0, with gufunc signature (n?,k),(k,m?)->(n?,m?) (size 270 is different from 271)",
     "output_type": "error",
     "traceback": [
      "\u001b[1;31m---------------------------------------------------------------------------\u001b[0m",
      "\u001b[1;31mValueError\u001b[0m                                Traceback (most recent call last)",
      "\u001b[1;32m~\\AppData\\Local\\Temp/ipykernel_3116/4040439257.py\u001b[0m in \u001b[0;36m<module>\u001b[1;34m\u001b[0m\n\u001b[0;32m      2\u001b[0m \u001b[0mclf_lasso\u001b[0m\u001b[1;33m.\u001b[0m\u001b[0mfit\u001b[0m\u001b[1;33m(\u001b[0m\u001b[0mX_train\u001b[0m\u001b[1;33m,\u001b[0m \u001b[0my\u001b[0m\u001b[1;33m)\u001b[0m\u001b[1;33m\u001b[0m\u001b[0m\n\u001b[0;32m      3\u001b[0m \u001b[1;31m#保证数据有效性\u001b[0m\u001b[1;33m\u001b[0m\u001b[1;33m\u001b[0m\u001b[0m\n\u001b[1;32m----> 4\u001b[1;33m \u001b[0mlasso_preds\u001b[0m \u001b[1;33m=\u001b[0m \u001b[0mnp\u001b[0m\u001b[1;33m.\u001b[0m\u001b[0mexpm1\u001b[0m\u001b[1;33m(\u001b[0m\u001b[0mclf_lasso\u001b[0m\u001b[1;33m.\u001b[0m\u001b[0mpredict\u001b[0m\u001b[1;33m(\u001b[0m\u001b[0mX_test\u001b[0m\u001b[1;33m)\u001b[0m\u001b[1;33m)\u001b[0m\u001b[1;33m\u001b[0m\u001b[0m\n\u001b[0m\u001b[0;32m      5\u001b[0m \u001b[1;33m\u001b[0m\u001b[0m\n\u001b[0;32m      6\u001b[0m \u001b[0mscore_lasso\u001b[0m \u001b[1;33m=\u001b[0m \u001b[0mrmse_cv\u001b[0m\u001b[1;33m(\u001b[0m\u001b[0mclf_lasso\u001b[0m\u001b[1;33m)\u001b[0m\u001b[1;33m\u001b[0m\u001b[0m\n",
      "\u001b[1;32mc:\\users\\19132\\appdata\\local\\programs\\python\\python37\\lib\\site-packages\\sklearn\\linear_model\\_base.py\u001b[0m in \u001b[0;36mpredict\u001b[1;34m(self, X)\u001b[0m\n\u001b[0;32m    234\u001b[0m             \u001b[0mReturns\u001b[0m \u001b[0mpredicted\u001b[0m \u001b[0mvalues\u001b[0m\u001b[1;33m.\u001b[0m\u001b[1;33m\u001b[0m\u001b[0m\n\u001b[0;32m    235\u001b[0m         \"\"\"\n\u001b[1;32m--> 236\u001b[1;33m         \u001b[1;32mreturn\u001b[0m \u001b[0mself\u001b[0m\u001b[1;33m.\u001b[0m\u001b[0m_decision_function\u001b[0m\u001b[1;33m(\u001b[0m\u001b[0mX\u001b[0m\u001b[1;33m)\u001b[0m\u001b[1;33m\u001b[0m\u001b[0m\n\u001b[0m\u001b[0;32m    237\u001b[0m \u001b[1;33m\u001b[0m\u001b[0m\n\u001b[0;32m    238\u001b[0m     \u001b[0m_preprocess_data\u001b[0m \u001b[1;33m=\u001b[0m \u001b[0mstaticmethod\u001b[0m\u001b[1;33m(\u001b[0m\u001b[0m_preprocess_data\u001b[0m\u001b[1;33m)\u001b[0m\u001b[1;33m\u001b[0m\u001b[0m\n",
      "\u001b[1;32mc:\\users\\19132\\appdata\\local\\programs\\python\\python37\\lib\\site-packages\\sklearn\\linear_model\\_base.py\u001b[0m in \u001b[0;36m_decision_function\u001b[1;34m(self, X)\u001b[0m\n\u001b[0;32m    218\u001b[0m         \u001b[0mX\u001b[0m \u001b[1;33m=\u001b[0m \u001b[0mcheck_array\u001b[0m\u001b[1;33m(\u001b[0m\u001b[0mX\u001b[0m\u001b[1;33m,\u001b[0m \u001b[0maccept_sparse\u001b[0m\u001b[1;33m=\u001b[0m\u001b[1;33m[\u001b[0m\u001b[1;34m'csr'\u001b[0m\u001b[1;33m,\u001b[0m \u001b[1;34m'csc'\u001b[0m\u001b[1;33m,\u001b[0m \u001b[1;34m'coo'\u001b[0m\u001b[1;33m]\u001b[0m\u001b[1;33m)\u001b[0m\u001b[1;33m\u001b[0m\u001b[0m\n\u001b[0;32m    219\u001b[0m         return safe_sparse_dot(X, self.coef_.T,\n\u001b[1;32m--> 220\u001b[1;33m                                dense_output=True) + self.intercept_\n\u001b[0m\u001b[0;32m    221\u001b[0m \u001b[1;33m\u001b[0m\u001b[0m\n\u001b[0;32m    222\u001b[0m     \u001b[1;32mdef\u001b[0m \u001b[0mpredict\u001b[0m\u001b[1;33m(\u001b[0m\u001b[0mself\u001b[0m\u001b[1;33m,\u001b[0m \u001b[0mX\u001b[0m\u001b[1;33m)\u001b[0m\u001b[1;33m:\u001b[0m\u001b[1;33m\u001b[0m\u001b[0m\n",
      "\u001b[1;32mc:\\users\\19132\\appdata\\local\\programs\\python\\python37\\lib\\site-packages\\sklearn\\utils\\validation.py\u001b[0m in \u001b[0;36minner_f\u001b[1;34m(*args, **kwargs)\u001b[0m\n\u001b[0;32m     63\u001b[0m         \u001b[1;32mif\u001b[0m \u001b[0mextra_args\u001b[0m \u001b[1;33m>\u001b[0m \u001b[1;36m0\u001b[0m\u001b[1;33m:\u001b[0m\u001b[1;33m\u001b[0m\u001b[0m\n\u001b[0;32m     64\u001b[0m             \u001b[1;31m# ignore first 'self' argument for instance methods\u001b[0m\u001b[1;33m\u001b[0m\u001b[1;33m\u001b[0m\u001b[0m\n\u001b[1;32m---> 65\u001b[1;33m             args_msg = ['{}={}'.format(name, arg)\n\u001b[0m\u001b[0;32m     66\u001b[0m                         for name, arg in zip(kwonly_args[:extra_args],\n\u001b[0;32m     67\u001b[0m                                              args[-extra_args:])]\n",
      "\u001b[1;32mc:\\users\\19132\\appdata\\local\\programs\\python\\python37\\lib\\site-packages\\sklearn\\utils\\extmath.py\u001b[0m in \u001b[0;36msafe_sparse_dot\u001b[1;34m(a, b, dense_output)\u001b[0m\n\u001b[0;32m    151\u001b[0m             \u001b[0mret\u001b[0m \u001b[1;33m=\u001b[0m \u001b[0mnp\u001b[0m\u001b[1;33m.\u001b[0m\u001b[0mdot\u001b[0m\u001b[1;33m(\u001b[0m\u001b[0ma\u001b[0m\u001b[1;33m,\u001b[0m \u001b[0mb\u001b[0m\u001b[1;33m)\u001b[0m\u001b[1;33m\u001b[0m\u001b[0m\n\u001b[0;32m    152\u001b[0m     \u001b[1;32melse\u001b[0m\u001b[1;33m:\u001b[0m\u001b[1;33m\u001b[0m\u001b[0m\n\u001b[1;32m--> 153\u001b[1;33m         \u001b[0mret\u001b[0m \u001b[1;33m=\u001b[0m \u001b[0ma\u001b[0m \u001b[1;33m@\u001b[0m \u001b[0mb\u001b[0m\u001b[1;33m\u001b[0m\u001b[0m\n\u001b[0m\u001b[0;32m    154\u001b[0m \u001b[1;33m\u001b[0m\u001b[0m\n\u001b[0;32m    155\u001b[0m     if (sparse.issparse(a) and sparse.issparse(b)\n",
      "\u001b[1;31mValueError\u001b[0m: matmul: Input operand 1 has a mismatch in its core dimension 0, with gufunc signature (n?,k),(k,m?)->(n?,m?) (size 270 is different from 271)"
     ]
    }
   ],
   "source": [
    "clf_lasso = LassoCV(alphas = [0.00005, 0.0001, 0.0002, 0.0005, 0.001, 0.002, 0.005, 0.01, 0.02, 0.05, 0.1, 0.2, 0.5, 1.0])\n",
    "clf_lasso.fit(X_train, y)\n",
    "#保证数据有效性\n",
    "lasso_preds = np.expm1(clf_lasso.predict(X_test))\n",
    "\n",
    "score_lasso = rmse_cv(clf_lasso)\n",
    "#std:标准差\n",
    "print(\"\\nLasso score: {:.4f} ({:.4f})\\n\".format(score_lasso.mean(), score_lasso.std()))"
   ]
  },
  {
   "cell_type": "code",
   "execution_count": null,
   "id": "264cd47e",
   "metadata": {},
   "outputs": [],
   "source": [
    "clf_ridge = RidgeCV(alphas = [0.00005, 0.0001, 0.0002, 0.0005, 0.001, 0.002, 0.005, 0.01, 0.02, 0.05, 0.1, 0.2, 0.5, 1.0])\n",
    "clf_ridge.fit(X_train, y)\n",
    "ridge_preds = np.expm1(clf_ridge.predict(X_test))\n",
    "\n",
    "score_ridge = rmse_cv(clf_ridge)\n",
    "print(\"\\nRidge score: {:.4f} ({:.4f})\\n\".format(score_ridge.mean(), score_ridge.std()))"
   ]
  },
  {
   "cell_type": "code",
   "execution_count": null,
   "id": "c96323e3",
   "metadata": {},
   "outputs": [],
   "source": [
    "clf_en = ElasticNetCV(alphas = [0.00005, 0.0001, 0.0002, 0.0005, 0.001, 0.002, 0.005, 0.01], l1_ratio = [0.1, 0.2, 0.5, 0.6, 0.8, 0.9])\n",
    "clf_en.fit(X_train, y)\n",
    "elas_preds = np.expm1(clf_en.predict(X_test))\n",
    "\n",
    "score_en = rmse_cv(clf_en)\n",
    "print(\"\\nElasticNet score: {:.4f} ({:.4f})\\n\".format(score_en.mean(), score_en.std()))"
   ]
  },
  {
   "cell_type": "code",
   "execution_count": null,
   "id": "0e8595ba",
   "metadata": {},
   "outputs": [],
   "source": [
    "_n_estimators = trial.suggest_int(\"n_estimators\", 50, 2000)\n",
    "_max_depth = trial.suggest_int(\"max_depth\", 1, 20)\n",
    "_learning_rate = trial.suggest_float(\"learning_rate\", 0.01, 1)\n",
    "_gamma = trial.suggest_float(\"gamma\", 0.01, 1)\n",
    "_min_child_weight = trial.suggest_float(\"min_child_weight\", 0.1, 10)\n",
    "_subsample = trial.suggest_float('subsample', 0.01, 1)\n",
    "_reg_alpha = trial.suggest_float('reg_alpha', 0.01, 10)\n",
    "_reg_lambda = trial.suggest_float('reg_lambda', 0.01, 10)\n",
    "\n",
    "clf_xgb = xgb.XGBRegressor(\n",
    "    n_estimators=_n_estimators,\n",
    "        max_depth=_max_depth, \n",
    "        learning_rate=_learning_rate,\n",
    "        gamma=_gamma,\n",
    "        min_child_weight=_min_child_weight,\n",
    "        subsample=_subsample,\n",
    "        reg_alpha=_reg_alpha,\n",
    "        reg_lambda=_reg_lambda,\n",
    "        random_state=RANDOM_SEED,\n",
    ")\n",
    "\n",
    "clf_xgb.fit(X_train, y.values)\n",
    "xgb_preds = np.expm1(clf_xgb.predict(X_test))\n",
    "\n",
    "score_xgb = rmse_cv(clf_xgb)\n",
    "print(\"\\nxgb score: {:.4f} ({:.4f})\\n\".format(score_xgb.mean(), score_xgb.std()))"
   ]
  },
  {
   "cell_type": "code",
   "execution_count": null,
   "id": "84f9304e",
   "metadata": {},
   "outputs": [],
   "source": []
  }
 ],
 "metadata": {
  "kernelspec": {
   "display_name": "Python 3 (ipykernel)",
   "language": "python",
   "name": "python3"
  },
  "language_info": {
   "codemirror_mode": {
    "name": "ipython",
    "version": 3
   },
   "file_extension": ".py",
   "mimetype": "text/x-python",
   "name": "python",
   "nbconvert_exporter": "python",
   "pygments_lexer": "ipython3",
   "version": "3.7.0"
  }
 },
 "nbformat": 4,
 "nbformat_minor": 5
}
